{
 "cells": [
  {
   "cell_type": "markdown",
   "metadata": {},
   "source": [
    "# Sorting the string letters in alphabetical order."
   ]
  },
  {
   "cell_type": "code",
   "execution_count": 3,
   "metadata": {},
   "outputs": [
    {
     "name": "stdout",
     "output_type": "stream",
     "text": [
      "Enter the string:h a m q i p\n"
     ]
    }
   ],
   "source": [
    "string = input('Enter the string:')"
   ]
  },
  {
   "cell_type": "code",
   "execution_count": 4,
   "metadata": {},
   "outputs": [
    {
     "name": "stdout",
     "output_type": "stream",
     "text": [
      "The sorted words are:\n",
      "a\n",
      "h\n",
      "i\n",
      "m\n",
      "p\n",
      "q\n"
     ]
    }
   ],
   "source": [
    "# breakdown the string into a list of words\n",
    "words = string.split()\n",
    " \n",
    "# sort the list\n",
    "words.sort()\n",
    " \n",
    "print(\"The sorted words are:\")\n",
    "for word in words:\n",
    "    print(word)"
   ]
  },
  {
   "cell_type": "code",
   "execution_count": 5,
   "metadata": {},
   "outputs": [
    {
     "name": "stdout",
     "output_type": "stream",
     "text": [
      "Enter the string:a n c p qu c\n"
     ]
    }
   ],
   "source": [
    "string = input('Enter the string:')"
   ]
  },
  {
   "cell_type": "code",
   "execution_count": 6,
   "metadata": {},
   "outputs": [
    {
     "name": "stdout",
     "output_type": "stream",
     "text": [
      "The sorted words are:\n",
      "a\n",
      "c\n",
      "c\n",
      "n\n",
      "p\n",
      "qu\n"
     ]
    }
   ],
   "source": [
    "# breakdown the string into a list of words\n",
    "words = string.split()\n",
    " \n",
    "# sort the list\n",
    "words.sort()\n",
    " \n",
    "print(\"The sorted words are:\")\n",
    "for word in words:\n",
    "    print(word)"
   ]
  }
 ],
 "metadata": {
  "kernelspec": {
   "display_name": "Python 3",
   "language": "python",
   "name": "python3"
  },
  "language_info": {
   "codemirror_mode": {
    "name": "ipython",
    "version": 3
   },
   "file_extension": ".py",
   "mimetype": "text/x-python",
   "name": "python",
   "nbconvert_exporter": "python",
   "pygments_lexer": "ipython3",
   "version": "3.6.5"
  }
 },
 "nbformat": 4,
 "nbformat_minor": 2
}
