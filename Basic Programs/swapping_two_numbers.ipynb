{
 "cells": [
  {
   "cell_type": "markdown",
   "metadata": {},
   "source": [
    "# Swapping of two numbers."
   ]
  },
  {
   "cell_type": "code",
   "execution_count": 5,
   "metadata": {},
   "outputs": [
    {
     "name": "stdout",
     "output_type": "stream",
     "text": [
      "Enter first number:10\n",
      "Enter second number:20\n",
      "The value of x before swapping: 10\n",
      "The value of y before swapping: 20\n",
      "\n",
      "The value of x after swapping: 20\n",
      "The value of y after swapping: 10\n"
     ]
    }
   ],
   "source": [
    "# By taking a temporary variable.\n",
    "x = int(input('Enter first number:'))\n",
    "y = int(input('Enter second number:'))\n",
    "\n",
    "print('The value of x before swapping:',x)\n",
    "print('The value of y before swapping:',y)\n",
    "print('')\n",
    "temp = x\n",
    "x = y\n",
    "y = temp\n",
    "\n",
    "print('The value of x after swapping:',x)\n",
    "print('The value of y after swapping:',y)"
   ]
  },
  {
   "cell_type": "code",
   "execution_count": 6,
   "metadata": {},
   "outputs": [
    {
     "name": "stdout",
     "output_type": "stream",
     "text": [
      "Enter first number:10\n",
      "Enter second number:20\n",
      "The value of x before swapping: 10\n",
      "The value of y before swapping: 20\n",
      "\n",
      "The value of x after swapping: 20\n",
      "The value of y after swapping: 10\n"
     ]
    }
   ],
   "source": [
    "# By using two variables only.\n",
    "x = int(input('Enter first number:'))\n",
    "y = int(input('Enter second number:'))\n",
    "\n",
    "print('The value of x before swapping:',x)\n",
    "print('The value of y before swapping:',y)\n",
    "print('')\n",
    "\n",
    "x, y = y, x\n",
    "print('The value of x after swapping:',x)\n",
    "print('The value of y after swapping:',y)\n"
   ]
  }
 ],
 "metadata": {
  "kernelspec": {
   "display_name": "Python 3",
   "language": "python",
   "name": "python3"
  },
  "language_info": {
   "codemirror_mode": {
    "name": "ipython",
    "version": 3
   },
   "file_extension": ".py",
   "mimetype": "text/x-python",
   "name": "python",
   "nbconvert_exporter": "python",
   "pygments_lexer": "ipython3",
   "version": "3.6.5"
  }
 },
 "nbformat": 4,
 "nbformat_minor": 2
}
