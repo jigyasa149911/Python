{
 "cells": [
  {
   "cell_type": "markdown",
   "metadata": {},
   "source": [
    "# Check whether the number is leap year or not."
   ]
  },
  {
   "cell_type": "code",
   "execution_count": 1,
   "metadata": {},
   "outputs": [
    {
     "name": "stdout",
     "output_type": "stream",
     "text": [
      "Enter the year:2020\n"
     ]
    }
   ],
   "source": [
    "year = int(input('Enter the year:'))"
   ]
  },
  {
   "cell_type": "code",
   "execution_count": 2,
   "metadata": {},
   "outputs": [
    {
     "name": "stdout",
     "output_type": "stream",
     "text": [
      "2020 is a leap year.\n"
     ]
    }
   ],
   "source": [
    "if(year%4 ==0 and year%100!=0):\n",
    "    print(year,'is a leap year.')\n",
    "elif(year%100==0):\n",
    "    print(year,'is not a leap year.')\n",
    "elif(year%400==0):\n",
    "    print(year,'is a leap year.')\n",
    "else:\n",
    "    print(year,'is not a leap year.')"
   ]
  },
  {
   "cell_type": "code",
   "execution_count": 4,
   "metadata": {},
   "outputs": [
    {
     "name": "stdout",
     "output_type": "stream",
     "text": [
      "2020 is a leap year.\n"
     ]
    }
   ],
   "source": [
    "# By using function.\n",
    "def check_leap(year):\n",
    "    if(year%4 ==0 and year%100!=0):\n",
    "        print(year,'is a leap year.')\n",
    "    elif(year%100==0):\n",
    "        print(year,'is not a leap year.')\n",
    "    elif(year%400==0):\n",
    "        print(year,'is a leap year.')\n",
    "    else:\n",
    "        print(year,'is not a leap year.')\n",
    "\n",
    "check_leap(year)"
   ]
  }
 ],
 "metadata": {
  "kernelspec": {
   "display_name": "Python 3",
   "language": "python",
   "name": "python3"
  },
  "language_info": {
   "codemirror_mode": {
    "name": "ipython",
    "version": 3
   },
   "file_extension": ".py",
   "mimetype": "text/x-python",
   "name": "python",
   "nbconvert_exporter": "python",
   "pygments_lexer": "ipython3",
   "version": "3.6.5"
  }
 },
 "nbformat": 4,
 "nbformat_minor": 2
}
