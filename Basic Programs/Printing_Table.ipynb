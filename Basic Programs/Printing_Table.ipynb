{
 "cells": [
  {
   "cell_type": "markdown",
   "metadata": {},
   "source": [
    "# Printing multiplication table of a number."
   ]
  },
  {
   "cell_type": "code",
   "execution_count": 1,
   "metadata": {},
   "outputs": [
    {
     "name": "stdout",
     "output_type": "stream",
     "text": [
      "Enter the number :5\n"
     ]
    }
   ],
   "source": [
    "num = int(input('Enter the number :'))"
   ]
  },
  {
   "cell_type": "code",
   "execution_count": 3,
   "metadata": {},
   "outputs": [
    {
     "name": "stdout",
     "output_type": "stream",
     "text": [
      "5 X 1 = 5\n",
      "5 X 2 = 10\n",
      "5 X 3 = 15\n",
      "5 X 4 = 20\n",
      "5 X 5 = 25\n",
      "5 X 6 = 30\n",
      "5 X 7 = 35\n",
      "5 X 8 = 40\n",
      "5 X 9 = 45\n",
      "5 X 10 = 50\n"
     ]
    }
   ],
   "source": [
    "for i in range(1,11):\n",
    "    print(num,'X',i,'=',num*i)"
   ]
  },
  {
   "cell_type": "code",
   "execution_count": 4,
   "metadata": {},
   "outputs": [
    {
     "name": "stdout",
     "output_type": "stream",
     "text": [
      "Enter the number :13\n"
     ]
    }
   ],
   "source": [
    "num = int(input('Enter the number :'))"
   ]
  },
  {
   "cell_type": "code",
   "execution_count": 5,
   "metadata": {},
   "outputs": [
    {
     "name": "stdout",
     "output_type": "stream",
     "text": [
      "13 X 1 = 13\n",
      "13 X 2 = 26\n",
      "13 X 3 = 39\n",
      "13 X 4 = 52\n",
      "13 X 5 = 65\n",
      "13 X 6 = 78\n",
      "13 X 7 = 91\n",
      "13 X 8 = 104\n",
      "13 X 9 = 117\n",
      "13 X 10 = 130\n"
     ]
    }
   ],
   "source": [
    "for i in range(1,11):\n",
    "    print(num,'X',i,'=',num*i)"
   ]
  }
 ],
 "metadata": {
  "kernelspec": {
   "display_name": "Python 3",
   "language": "python",
   "name": "python3"
  },
  "language_info": {
   "codemirror_mode": {
    "name": "ipython",
    "version": 3
   },
   "file_extension": ".py",
   "mimetype": "text/x-python",
   "name": "python",
   "nbconvert_exporter": "python",
   "pygments_lexer": "ipython3",
   "version": "3.6.5"
  }
 },
 "nbformat": 4,
 "nbformat_minor": 2
}
