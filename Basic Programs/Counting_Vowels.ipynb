{
 "cells": [
  {
   "cell_type": "markdown",
   "metadata": {},
   "source": [
    "# Counting vowels in a string."
   ]
  },
  {
   "cell_type": "code",
   "execution_count": 1,
   "metadata": {},
   "outputs": [
    {
     "name": "stdout",
     "output_type": "stream",
     "text": [
      "Enter the string:jigyasa\n",
      "No. of vowels : 3\n"
     ]
    }
   ],
   "source": [
    "def vowel_count(str): \n",
    "    \n",
    "    count = 0\n",
    "      \n",
    "    # Creating a set of vowels \n",
    "    vowel = set(\"aeiouAEIOU\") \n",
    "       \n",
    "    for alphabet in str: \n",
    "        if alphabet in vowel: \n",
    "            count = count + 1\n",
    "      \n",
    "    print(\"No. of vowels :\", count) \n",
    "      \n",
    "string = input('Enter the string:')\n",
    "  \n",
    "# Function Call \n",
    "vowel_count(string)"
   ]
  },
  {
   "cell_type": "code",
   "execution_count": 3,
   "metadata": {},
   "outputs": [
    {
     "name": "stdout",
     "output_type": "stream",
     "text": [
      "Enter the string:python3\n",
      "No. of vowels : 1\n"
     ]
    }
   ],
   "source": [
    "string = input('Enter the string:')\n",
    "vowel_count(string)"
   ]
  },
  {
   "cell_type": "code",
   "execution_count": 5,
   "metadata": {},
   "outputs": [
    {
     "name": "stdout",
     "output_type": "stream",
     "text": [
      "Enter the string:aeiou\n",
      "No. of vowels : 5\n"
     ]
    }
   ],
   "source": [
    "string = input('Enter the string:')\n",
    "vowel_count(string)"
   ]
  },
  {
   "cell_type": "code",
   "execution_count": 6,
   "metadata": {},
   "outputs": [
    {
     "name": "stdout",
     "output_type": "stream",
     "text": [
      "Enter the string:jupyter\n",
      "No. of vowels : 2\n"
     ]
    }
   ],
   "source": [
    "string = input('Enter the string:')\n",
    "vowel_count(string)"
   ]
  },
  {
   "cell_type": "code",
   "execution_count": 4,
   "metadata": {},
   "outputs": [
    {
     "name": "stdout",
     "output_type": "stream",
     "text": [
      "Enter the string:anaconda\n",
      "No. of vowels : 4\n"
     ]
    }
   ],
   "source": [
    "string = input('Enter the string:')\n",
    "vowel_count(string)"
   ]
  }
 ],
 "metadata": {
  "kernelspec": {
   "display_name": "Python 3",
   "language": "python",
   "name": "python3"
  },
  "language_info": {
   "codemirror_mode": {
    "name": "ipython",
    "version": 3
   },
   "file_extension": ".py",
   "mimetype": "text/x-python",
   "name": "python",
   "nbconvert_exporter": "python",
   "pygments_lexer": "ipython3",
   "version": "3.6.5"
  }
 },
 "nbformat": 4,
 "nbformat_minor": 2
}
