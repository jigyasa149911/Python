{
 "cells": [
  {
   "cell_type": "markdown",
   "metadata": {},
   "source": [
    "# Generating random numbers."
   ]
  },
  {
   "cell_type": "code",
   "execution_count": 2,
   "metadata": {},
   "outputs": [
    {
     "name": "stdout",
     "output_type": "stream",
     "text": [
      "0.13436424411240122 0.8474337369372327 0.763774618976614\n",
      "0.8444218515250481 0.7579544029403025 0.420571580830845\n"
     ]
    }
   ],
   "source": [
    "from random import seed\n",
    "from random import random\n",
    "# seed random number generator\n",
    "seed(1)\n",
    "# generate some random numbers\n",
    "print(random(), random(), random())\n",
    "# reset the seed\n",
    "seed(0)\n",
    "# generate some random numbers\n",
    "print(random(), random(), random())"
   ]
  },
  {
   "cell_type": "code",
   "execution_count": 5,
   "metadata": {},
   "outputs": [
    {
     "name": "stdout",
     "output_type": "stream",
     "text": [
      "2\n",
      "9\n",
      "1\n",
      "4\n",
      "1\n",
      "7\n",
      "7\n",
      "7\n",
      "10\n",
      "6\n"
     ]
    }
   ],
   "source": [
    "from random import seed\n",
    "from random import randint\n",
    "# seed random number generator\n",
    "seed(1)\n",
    "# generate some integers\n",
    "for i in range(10):\n",
    "    value = randint(0, 10)\n",
    "    print(value)"
   ]
  },
  {
   "cell_type": "code",
   "execution_count": 8,
   "metadata": {},
   "outputs": [
    {
     "name": "stdout",
     "output_type": "stream",
     "text": [
      "[0, 1, 2, 3, 4, 5, 6, 7, 8, 9, 10, 11, 12, 13, 14, 15, 16, 17, 18, 19]\n",
      "4\n",
      "18\n",
      "2\n",
      "8\n",
      "3\n"
     ]
    }
   ],
   "source": [
    "from random import choice\n",
    "seed(1)\n",
    "# prepare a sequence\n",
    "sequence = [i for i in range(20)]\n",
    "print(sequence)\n",
    "# make choices from the sequence\n",
    "for i in range(5):\n",
    "    selection = choice(sequence)\n",
    "    print(selection)\n"
   ]
  }
 ],
 "metadata": {
  "kernelspec": {
   "display_name": "Python 3",
   "language": "python",
   "name": "python3"
  },
  "language_info": {
   "codemirror_mode": {
    "name": "ipython",
    "version": 3
   },
   "file_extension": ".py",
   "mimetype": "text/x-python",
   "name": "python",
   "nbconvert_exporter": "python",
   "pygments_lexer": "ipython3",
   "version": "3.6.5"
  }
 },
 "nbformat": 4,
 "nbformat_minor": 2
}
