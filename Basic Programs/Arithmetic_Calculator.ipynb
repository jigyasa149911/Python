{
 "cells": [
  {
   "cell_type": "markdown",
   "metadata": {},
   "source": [
    "# Arithmetic Calculator"
   ]
  },
  {
   "cell_type": "code",
   "execution_count": 1,
   "metadata": {},
   "outputs": [],
   "source": [
    "def add(a,b):\n",
    "    s = a + b\n",
    "    print('The sum of',a,'&',b,'is :',s)\n",
    "def sub(a,b):\n",
    "    d = a - b\n",
    "    print('The difference of',a,'&',b,'is :',d)\n",
    "def mult(a,b):\n",
    "    m = a*b\n",
    "    print('The product of',a,'&',b,'is :',m)\n",
    "def div(a,b):\n",
    "    di = a/b\n",
    "    print('The division of',a,'&',b,'is :',di)"
   ]
  },
  {
   "cell_type": "code",
   "execution_count": 4,
   "metadata": {},
   "outputs": [
    {
     "name": "stdout",
     "output_type": "stream",
     "text": [
      "Enter first number:10\n",
      "Enter second number:5\n",
      "The sum of 10 & 5 is : 15\n",
      "\n",
      "\n",
      "The difference of 10 & 5 is : 5\n",
      "\n",
      "\n",
      "The product of 10 & 5 is : 50\n",
      "\n",
      "\n",
      "The division of 10 & 5 is : 2.0\n"
     ]
    }
   ],
   "source": [
    "a = int(input('Enter first number:'))\n",
    "b = int(input('Enter second number:'))\n",
    "add(a,b)\n",
    "print('\\n')\n",
    "sub(a,b)\n",
    "print('\\n')\n",
    "mult(a,b)\n",
    "print('\\n')\n",
    "div(a,b)"
   ]
  }
 ],
 "metadata": {
  "kernelspec": {
   "display_name": "Python 3",
   "language": "python",
   "name": "python3"
  },
  "language_info": {
   "codemirror_mode": {
    "name": "ipython",
    "version": 3
   },
   "file_extension": ".py",
   "mimetype": "text/x-python",
   "name": "python",
   "nbconvert_exporter": "python",
   "pygments_lexer": "ipython3",
   "version": "3.6.5"
  }
 },
 "nbformat": 4,
 "nbformat_minor": 2
}
