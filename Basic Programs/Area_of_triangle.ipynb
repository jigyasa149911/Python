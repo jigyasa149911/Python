{
 "cells": [
  {
   "cell_type": "markdown",
   "metadata": {},
   "source": [
    "# Area of triangle."
   ]
  },
  {
   "cell_type": "code",
   "execution_count": 6,
   "metadata": {},
   "outputs": [
    {
     "name": "stdout",
     "output_type": "stream",
     "text": [
      "Enter first side of triangle :5\n",
      "Enter second side of triangle :5\n",
      "Enter third side of triangle :5\n",
      "Area of the triangle is:\n",
      "10.825317547305483\n"
     ]
    }
   ],
   "source": [
    "# USING HERON'S FORMULA\n",
    "import math as mt\n",
    "a = int(input('Enter first side of triangle :'))\n",
    "b = int(input('Enter second side of triangle :'))\n",
    "c = int(input('Enter third side of triangle :'))\n",
    "\n",
    "s = (a+b+c)/2\n",
    "s1 = s*(s-a)*(s-b)*(s-c)\n",
    "area = mt.sqrt(s1)\n",
    "print('Area of the triangle is:')\n",
    "print(area)"
   ]
  },
  {
   "cell_type": "code",
   "execution_count": 8,
   "metadata": {},
   "outputs": [
    {
     "name": "stdout",
     "output_type": "stream",
     "text": [
      "Enter the base :5\n",
      "Enter the hypotenuse of the triangle:5\n",
      "Area of the triangle is:\n",
      "12.5\n"
     ]
    }
   ],
   "source": [
    "# AREA OF RIGHT ANGLED TRIANGLE\n",
    "base = int(input('Enter the base :'))\n",
    "hypo = int(input('Enter the hypotenuse of the triangle:'))\n",
    "area = (base*hypo)/2\n",
    "\n",
    "print('Area of the triangle is:')\n",
    "print(area)"
   ]
  }
 ],
 "metadata": {
  "kernelspec": {
   "display_name": "Python 3",
   "language": "python",
   "name": "python3"
  },
  "language_info": {
   "codemirror_mode": {
    "name": "ipython",
    "version": 3
   },
   "file_extension": ".py",
   "mimetype": "text/x-python",
   "name": "python",
   "nbconvert_exporter": "python",
   "pygments_lexer": "ipython3",
   "version": "3.6.5"
  }
 },
 "nbformat": 4,
 "nbformat_minor": 2
}
