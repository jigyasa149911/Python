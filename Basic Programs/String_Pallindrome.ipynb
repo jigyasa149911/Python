{
 "cells": [
  {
   "cell_type": "markdown",
   "metadata": {},
   "source": [
    "# Check if the string is pallindrome or not."
   ]
  },
  {
   "cell_type": "code",
   "execution_count": 1,
   "metadata": {},
   "outputs": [
    {
     "name": "stdout",
     "output_type": "stream",
     "text": [
      "Enter the string:aba\n"
     ]
    }
   ],
   "source": [
    "string = input('Enter the string:')"
   ]
  },
  {
   "cell_type": "code",
   "execution_count": 3,
   "metadata": {},
   "outputs": [
    {
     "name": "stdout",
     "output_type": "stream",
     "text": [
      "aba is pallindrome.\n"
     ]
    }
   ],
   "source": [
    "r = string[::-1]\n",
    "if(r==string):\n",
    "    print(string,'is pallindrome.')\n",
    "else:\n",
    "    print(string,'is not pallindrome.')"
   ]
  },
  {
   "cell_type": "code",
   "execution_count": 4,
   "metadata": {},
   "outputs": [
    {
     "name": "stdout",
     "output_type": "stream",
     "text": [
      "Enter the string:abc\n"
     ]
    }
   ],
   "source": [
    "string = input('Enter the string:')"
   ]
  },
  {
   "cell_type": "code",
   "execution_count": 5,
   "metadata": {},
   "outputs": [
    {
     "name": "stdout",
     "output_type": "stream",
     "text": [
      "abc is not pallindrome.\n"
     ]
    }
   ],
   "source": [
    "r = string[::-1]\n",
    "if(r==string):\n",
    "    print(string,'is pallindrome.')\n",
    "else:\n",
    "    print(string,'is not pallindrome.')"
   ]
  }
 ],
 "metadata": {
  "kernelspec": {
   "display_name": "Python 3",
   "language": "python",
   "name": "python3"
  },
  "language_info": {
   "codemirror_mode": {
    "name": "ipython",
    "version": 3
   },
   "file_extension": ".py",
   "mimetype": "text/x-python",
   "name": "python",
   "nbconvert_exporter": "python",
   "pygments_lexer": "ipython3",
   "version": "3.6.5"
  }
 },
 "nbformat": 4,
 "nbformat_minor": 2
}
