{
 "cells": [
  {
   "cell_type": "markdown",
   "metadata": {},
   "source": [
    "# Length unit conversion."
   ]
  },
  {
   "cell_type": "code",
   "execution_count": 6,
   "metadata": {},
   "outputs": [
    {
     "name": "stdout",
     "output_type": "stream",
     "text": [
      "Enter the length in km.:10\n",
      "10.0 km is equivalent to 6.21371 miles.\n",
      "Enter the length in miles,:6.21371\n",
      "6.21371 is equivalent to 10.0 kms.\n"
     ]
    }
   ],
   "source": [
    "# Kilometer to miles.\n",
    "km = float(input('Enter the length in km.:'))\n",
    "miles = km * 0.621371\n",
    "print(km,'km is equivalent to',miles,'miles.')\n",
    "\n",
    "# Miles to kilometer.\n",
    "miles = float(input('Enter the length in miles,:'))\n",
    "km = miles/0.621371\n",
    "print(miles,'is equivalent to',km,'kms.')"
   ]
  },
  {
   "cell_type": "code",
   "execution_count": 7,
   "metadata": {},
   "outputs": [
    {
     "name": "stdout",
     "output_type": "stream",
     "text": [
      "Enter the length in km.:10\n",
      "10.0 km is equivalent to 1000.0 meters.\n",
      "Enter the length in km.:10\n",
      "10.0 km is equivalent to 10000.0 centimeters.\n",
      "Enter the length in meter.:100\n",
      "100.0 meters is equivalent to 1.0 km.\n",
      "Enter the length in meter.:120\n",
      "120.0 m is equivalent to 1200.0 centimeters.\n"
     ]
    }
   ],
   "source": [
    "# Kilometer to meter.\n",
    "km = float(input('Enter the length in km.:'))\n",
    "meter = km * 100\n",
    "print(km,'km is equivalent to',meter,'meters.')\n",
    "\n",
    "# Kilometer to cms.\n",
    "km = float(input('Enter the length in km.:'))\n",
    "cm = km * 1000\n",
    "print(km,'km is equivalent to',cm,'centimeters.')\n",
    "\n",
    "# Meter to kilometer.\n",
    "meter = float(input('Enter the length in meter.:'))\n",
    "km = meter / 100\n",
    "print(meter,'meters is equivalent to',km,'km.')\n",
    "\n",
    "# Meter to centimeters.\n",
    "meter = float(input('Enter the length in meter.:'))\n",
    "cm = meter * 10\n",
    "print(meter,'m is equivalent to',cm,'centimeters.')\n"
   ]
  },
  {
   "cell_type": "code",
   "execution_count": 10,
   "metadata": {},
   "outputs": [
    {
     "name": "stdout",
     "output_type": "stream",
     "text": [
      "Enter the length in meter.:2.2\n",
      "2.2 m is equivalent to 7.217847769028872 ft.\n",
      "Enter the length in ft.:7.2\n",
      "7.2 ft is equivalent to 2.19456 meters.\n"
     ]
    }
   ],
   "source": [
    "# Meter to feet.\n",
    "meter = float(input('Enter the length in meter.:'))\n",
    "feet = meter /  0.3048\n",
    "print(meter,'m is equivalent to',feet,'ft.')\n",
    "\n",
    "# Feet to meter.\n",
    "feet = float(input('Enter the length in ft.:'))\n",
    "meter = feet * 0.3048\n",
    "print(feet,'ft is equivalent to',meter,'meters.')\n"
   ]
  },
  {
   "cell_type": "code",
   "execution_count": 11,
   "metadata": {},
   "outputs": [
    {
     "name": "stdout",
     "output_type": "stream",
     "text": [
      "Enter the length in meter.:100\n",
      "100.0 m is equivalent to 109.36099999999999 yds.\n",
      "Enter the length in yards.:109\n",
      "109.0 yds is equivalent to 99.66990060442022 meters.\n"
     ]
    }
   ],
   "source": [
    "# Meter to yards.\n",
    "meter = float(input('Enter the length in meter.:'))\n",
    "yard = meter * 1.09361\n",
    "print(meter,'m is equivalent to',yard,'yds.')\n",
    "\n",
    "# Yards to meters.\n",
    "yard = float(input('Enter the length in yards.:'))\n",
    "meter = yard / 1.09361\n",
    "print(yard,'yds is equivalent to',meter,'meters.')"
   ]
  }
 ],
 "metadata": {
  "kernelspec": {
   "display_name": "Python 3",
   "language": "python",
   "name": "python3"
  },
  "language_info": {
   "codemirror_mode": {
    "name": "ipython",
    "version": 3
   },
   "file_extension": ".py",
   "mimetype": "text/x-python",
   "name": "python",
   "nbconvert_exporter": "python",
   "pygments_lexer": "ipython3",
   "version": "3.6.5"
  }
 },
 "nbformat": 4,
 "nbformat_minor": 2
}
