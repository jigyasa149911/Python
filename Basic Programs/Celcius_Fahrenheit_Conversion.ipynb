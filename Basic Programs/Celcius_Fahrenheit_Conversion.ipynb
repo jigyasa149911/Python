{
 "cells": [
  {
   "cell_type": "markdown",
   "metadata": {},
   "source": [
    "# Celcius to Fahrenheit conversion."
   ]
  },
  {
   "cell_type": "code",
   "execution_count": 1,
   "metadata": {},
   "outputs": [
    {
     "name": "stdout",
     "output_type": "stream",
     "text": [
      "Enter the temperature in degree celcius:23\n"
     ]
    }
   ],
   "source": [
    "celcius = float(input('Enter the temperature in degree celcius:'))"
   ]
  },
  {
   "cell_type": "code",
   "execution_count": 7,
   "metadata": {},
   "outputs": [],
   "source": [
    "def oC_to_oF(celcius):\n",
    "    fahrenheit = (celcius * 9/5) + 32\n",
    "    print('The temperature is',fahrenheit,'F')"
   ]
  },
  {
   "cell_type": "code",
   "execution_count": 8,
   "metadata": {},
   "outputs": [
    {
     "name": "stdout",
     "output_type": "stream",
     "text": [
      "The temperature is 73.4 F\n"
     ]
    }
   ],
   "source": [
    "oC_to_oF(celcius)"
   ]
  },
  {
   "cell_type": "markdown",
   "metadata": {},
   "source": [
    "# Fahrenheit to Celcius conversion."
   ]
  },
  {
   "cell_type": "code",
   "execution_count": 9,
   "metadata": {},
   "outputs": [
    {
     "name": "stdout",
     "output_type": "stream",
     "text": [
      "Enter the temperature in degree fahrenheit :73.4\n"
     ]
    }
   ],
   "source": [
    "fahrenheit = float(input('Enter the temperature in degree fahrenheit :'))"
   ]
  },
  {
   "cell_type": "code",
   "execution_count": 11,
   "metadata": {},
   "outputs": [],
   "source": [
    "def oF_to_oC(fahrenheit):\n",
    "    celcius = (fahrenheit - 32) * 5/9\n",
    "    print('The temperature is',celcius,'C')"
   ]
  },
  {
   "cell_type": "code",
   "execution_count": 12,
   "metadata": {},
   "outputs": [
    {
     "name": "stdout",
     "output_type": "stream",
     "text": [
      "The temperature is 23.000000000000004 C\n"
     ]
    }
   ],
   "source": [
    "oF_to_oC(fahrenheit)"
   ]
  }
 ],
 "metadata": {
  "kernelspec": {
   "display_name": "Python 3",
   "language": "python",
   "name": "python3"
  },
  "language_info": {
   "codemirror_mode": {
    "name": "ipython",
    "version": 3
   },
   "file_extension": ".py",
   "mimetype": "text/x-python",
   "name": "python",
   "nbconvert_exporter": "python",
   "pygments_lexer": "ipython3",
   "version": "3.6.5"
  }
 },
 "nbformat": 4,
 "nbformat_minor": 2
}
