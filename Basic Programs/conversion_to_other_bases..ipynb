{
 "cells": [
  {
   "cell_type": "markdown",
   "metadata": {},
   "source": [
    "# Decimal - Binary conversion."
   ]
  },
  {
   "cell_type": "code",
   "execution_count": 3,
   "metadata": {},
   "outputs": [
    {
     "name": "stdout",
     "output_type": "stream",
     "text": [
      "Enter the number:10\n",
      "1010\n"
     ]
    }
   ],
   "source": [
    "# Function to convert Decimal number \n",
    "# to Binary number \n",
    "def decimalToBinary(n): \n",
    "    return bin(n).replace(\"0b\", \"\") \n",
    "    \n",
    "\n",
    "num = int(input('Enter the number:'))\n",
    "print(decimalToBinary(num))"
   ]
  },
  {
   "cell_type": "markdown",
   "metadata": {},
   "source": [
    "# Decimal to hexadecimal."
   ]
  },
  {
   "cell_type": "code",
   "execution_count": 8,
   "metadata": {},
   "outputs": [
    {
     "name": "stdout",
     "output_type": "stream",
     "text": [
      "Enter the decimal value for conversion: 10\n",
      "0xa\n"
     ]
    }
   ],
   "source": [
    "num = int(input(\"Enter the decimal value for conversion: \"))\n",
    "\n",
    "# converting using built-in function hex()\n",
    "hex = hex(num)\n",
    "\n",
    "print(hex)"
   ]
  },
  {
   "cell_type": "markdown",
   "metadata": {},
   "source": [
    "# Decimal to octal."
   ]
  },
  {
   "cell_type": "code",
   "execution_count": 9,
   "metadata": {},
   "outputs": [
    {
     "name": "stdout",
     "output_type": "stream",
     "text": [
      "Enter the decimal value for conversion:10\n",
      "0o12\n"
     ]
    }
   ],
   "source": [
    "num = int(input('Enter the decimal value for conversion:'))\n",
    "\n",
    "# converting using built-in oct()\n",
    "oct = oct(num)\n",
    "\n",
    "print(oct)"
   ]
  }
 ],
 "metadata": {
  "kernelspec": {
   "display_name": "Python 3",
   "language": "python",
   "name": "python3"
  },
  "language_info": {
   "codemirror_mode": {
    "name": "ipython",
    "version": 3
   },
   "file_extension": ".py",
   "mimetype": "text/x-python",
   "name": "python",
   "nbconvert_exporter": "python",
   "pygments_lexer": "ipython3",
   "version": "3.6.5"
  }
 },
 "nbformat": 4,
 "nbformat_minor": 2
}
